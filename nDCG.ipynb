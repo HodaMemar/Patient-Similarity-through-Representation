{
  "nbformat": 4,
  "nbformat_minor": 0,
  "metadata": {
    "colab": {
      "name": "nDCG.ipynb",
      "provenance": [],
      "authorship_tag": "ABX9TyO4ynvgWFd0TTcRp9VykiUl",
      "include_colab_link": true
    },
    "kernelspec": {
      "name": "python3",
      "display_name": "Python 3"
    },
    "language_info": {
      "name": "python"
    }
  },
  "cells": [
    {
      "cell_type": "markdown",
      "metadata": {
        "id": "view-in-github",
        "colab_type": "text"
      },
      "source": [
        "<a href=\"https://colab.research.google.com/github/HodaMemar/Patient-Similarity-through-Representation/blob/main/nDCG.ipynb\" target=\"_parent\"><img src=\"https://colab.research.google.com/assets/colab-badge.svg\" alt=\"Open In Colab\"/></a>"
      ]
    },
    {
      "cell_type": "code",
      "execution_count": null,
      "metadata": {
        "id": "aEFL1Nq8v7Se"
      },
      "outputs": [],
      "source": [
        "import numpy as np\n",
        "import pandas as pd"
      ]
    },
    {
      "cell_type": "code",
      "source": [
        "title='dis_Stage_~'\n",
        "path='...\\Distance\\\\'+ title + '.csv'\n",
        "print(path)\n",
        "\n",
        "df_dis=pd.read_csv(path)\n",
        "\n",
        "df_dis=df_dis.set_index('ID')\n",
        "len(df_dis)\n",
        "\n",
        "Dataset_ID=df_dis.index.unique().tolist()\n",
        "len(Dataset_ID)"
      ],
      "metadata": {
        "id": "01gnrNYJwFf-"
      },
      "execution_count": null,
      "outputs": []
    },
    {
      "cell_type": "code",
      "source": [
        "df_dis\n",
        "df_dis=df_dis[df_dis.index.isin(Dataset_ID)]\n",
        "len(df_dis)"
      ],
      "metadata": {
        "id": "nhSZTtY1wIaG"
      },
      "execution_count": null,
      "outputs": []
    },
    {
      "cell_type": "code",
      "source": [
        "gold_dff=pd.read_csv('...\\gold_standard.csv')\n",
        "gold_dff.head()"
      ],
      "metadata": {
        "id": "X-y9OE1OwLVN"
      },
      "execution_count": null,
      "outputs": []
    },
    {
      "cell_type": "code",
      "source": [
        "gold_dff1=gold_dff[(gold_dff['p1'].isin(Dataset_ID)) & (gold_dff['p2'].isin(Dataset_ID))]\n",
        "gold_dff1"
      ],
      "metadata": {
        "id": "piqLEtIMwNCe"
      },
      "execution_count": null,
      "outputs": []
    },
    {
      "cell_type": "code",
      "source": [
        "ist_patient=df_dis.index.tolist()\n",
        "ls_result=[]\n",
        "ls_K=[2,6,11,21]\n",
        "ls_test=[184124]\n",
        "for k in ls_K:\n",
        "\n",
        "    count=0\n",
        "    for i in Dataset_ID[0:200]:\n",
        "        \n",
        "        count=count+1\n",
        "        print(k,count)\n",
        "        df_tmp=df_dis[[str(i)]]\n",
        "        df_tmp=df_tmp.sort_values(str(i), axis=0,ascending=False)\n",
        "        \n",
        "        #print('df_tmp',df_tmp)\n",
        "        top_retrived=df_tmp[1:k].index.tolist()\n",
        "        #print(top_retrived)\n",
        "        Y_Estimated=[]\n",
        "        for j in top_retrived:\n",
        "            Y_Estimated.append(gold_dff1.loc[(gold_dff1['p1']==i) & (gold_dff1['p2']==j)].SimIndex.tolist()[0])\n",
        "        #print(Y_Estimated)\n",
        "\n",
        "        DCG_Estimated=0\n",
        "        for m in range(len(Y_Estimated)):\n",
        "            ss=(np.log(m+2)/np.log(2))\n",
        "            DCG_Estimated=DCG_Estimated+(Y_Estimated[m]/ss)\n",
        "        #print('DCG_Estimated',DCG_Estimated)\n",
        "\n",
        "        Y_ideal=[]\n",
        "        gold_Y_i=gold_dff1[gold_dff1['p1']==i].sort_values('SimIndex',ascending=False)\n",
        "        gold_Y_i=gold_Y_i.reset_index()\n",
        "        top_ideal=gold_Y_i.iloc[1:k].p2.tolist()\n",
        "        #print(top_ideal)    \n",
        "        for j in top_ideal:\n",
        "            Y_ideal.append(gold_dff1.loc[(gold_dff1['p1']==i) & (gold_dff1['p2']==j)].SimIndex.tolist()[0])\n",
        "        #print(Y_ideal)    \n",
        "\n",
        "        DCG_Ideal=0\n",
        "        for l in range(len(Y_ideal)):\n",
        "            dd=np.log(l+2)/np.log(2)\n",
        "            DCG_Ideal=DCG_Ideal+(Y_ideal[l]/dd)\n",
        "        #print('DCG_Ideal',DCG_Ideal)\n",
        "\n",
        "\n",
        "        nDCG=DCG_Estimated/DCG_Ideal\n",
        "        #print(DCG_Estimated,DCG_Ideal,nDCG)\n",
        "        ls_result.append([title,i,k,nDCG])\n",
        "#print(title)"
      ],
      "metadata": {
        "id": "P7k6HZx4wPz-"
      },
      "execution_count": null,
      "outputs": []
    },
    {
      "cell_type": "code",
      "source": [
        "DCG=pd.DataFrame(ls_result,columns=['title','i','k','nDCG'])"
      ],
      "metadata": {
        "id": "QI-xDk1iwS2W"
      },
      "execution_count": null,
      "outputs": []
    }
  ]
}