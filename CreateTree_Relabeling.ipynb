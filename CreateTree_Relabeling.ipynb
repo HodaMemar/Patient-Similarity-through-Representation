{
  "nbformat": 4,
  "nbformat_minor": 0,
  "metadata": {
    "colab": {
      "provenance": [],
      "authorship_tag": "ABX9TyOramiAdn3AxRx2EQSq4tCW",
      "include_colab_link": true
    },
    "kernelspec": {
      "name": "python3",
      "display_name": "Python 3"
    },
    "language_info": {
      "name": "python"
    }
  },
  "cells": [
    {
      "cell_type": "markdown",
      "metadata": {
        "id": "view-in-github",
        "colab_type": "text"
      },
      "source": [
        "<a href=\"https://colab.research.google.com/github/HodaMemar/Patient-Similarity-through-Representation/blob/main/CreateTree_Relabeling.ipynb\" target=\"_parent\"><img src=\"https://colab.research.google.com/assets/colab-badge.svg\" alt=\"Open In Colab\"/></a>"
      ]
    },
    {
      "cell_type": "markdown",
      "source": [],
      "metadata": {
        "id": "Q5WAq5fNdgke"
      }
    },
    {
      "cell_type": "code",
      "execution_count": 1,
      "metadata": {
        "id": "qVuwZmXLdbHl",
        "outputId": "0a65d47e-09bf-4e7e-edc8-e107615752b6",
        "colab": {
          "base_uri": "https://localhost:8080/"
        }
      },
      "outputs": [
        {
          "output_type": "stream",
          "name": "stderr",
          "text": [
            "[nltk_data] Downloading package punkt to /root/nltk_data...\n",
            "[nltk_data]   Unzipping tokenizers/punkt.zip.\n"
          ]
        },
        {
          "output_type": "execute_result",
          "data": {
            "text/plain": [
              "True"
            ]
          },
          "metadata": {},
          "execution_count": 1
        }
      ],
      "source": [
        "import pandas as pd\n",
        "import networkx as nx\n",
        "from nltk.tokenize import word_tokenize\n",
        "import matplotlib.pyplot as plt\n",
        "import nltk\n",
        "nltk.download('punkt')"
      ]
    },
    {
      "cell_type": "markdown",
      "source": [
        "Stage refers to the set of quadraples that are used to make the graph.\n",
        "This collection is arranged according to the time dimension"
      ],
      "metadata": {
        "id": "KRGJRGMJepXq"
      }
    },
    {
      "cell_type": "code",
      "source": [
        "\n",
        "Stage_df1=pd.read_csv('...\\\\Stage.csv')"
      ],
      "metadata": {
        "id": "iFN-Bpw6dfxM",
        "outputId": "32617db1-1134-4cd4-cb42-1910ccb05e7e",
        "colab": {
          "base_uri": "https://localhost:8080/",
          "height": 338
        }
      },
      "execution_count": null,
      "outputs": [
        {
          "output_type": "error",
          "ename": "FileNotFoundError",
          "evalue": "ignored",
          "traceback": [
            "\u001b[0;31m---------------------------------------------------------------------------\u001b[0m",
            "\u001b[0;31mFileNotFoundError\u001b[0m                         Traceback (most recent call last)",
            "\u001b[0;32m<ipython-input-33-da3a47534364>\u001b[0m in \u001b[0;36m<cell line: 1>\u001b[0;34m()\u001b[0m\n\u001b[0;32m----> 1\u001b[0;31m \u001b[0mStage_df1\u001b[0m\u001b[0;34m=\u001b[0m\u001b[0mpd\u001b[0m\u001b[0;34m.\u001b[0m\u001b[0mread_csv\u001b[0m\u001b[0;34m(\u001b[0m\u001b[0;34m'...\\\\Stage.csv'\u001b[0m\u001b[0;34m)\u001b[0m\u001b[0;34m\u001b[0m\u001b[0;34m\u001b[0m\u001b[0m\n\u001b[0m",
            "\u001b[0;32m/usr/local/lib/python3.10/dist-packages/pandas/util/_decorators.py\u001b[0m in \u001b[0;36mwrapper\u001b[0;34m(*args, **kwargs)\u001b[0m\n\u001b[1;32m    209\u001b[0m                 \u001b[0;32melse\u001b[0m\u001b[0;34m:\u001b[0m\u001b[0;34m\u001b[0m\u001b[0;34m\u001b[0m\u001b[0m\n\u001b[1;32m    210\u001b[0m                     \u001b[0mkwargs\u001b[0m\u001b[0;34m[\u001b[0m\u001b[0mnew_arg_name\u001b[0m\u001b[0;34m]\u001b[0m \u001b[0;34m=\u001b[0m \u001b[0mnew_arg_value\u001b[0m\u001b[0;34m\u001b[0m\u001b[0;34m\u001b[0m\u001b[0m\n\u001b[0;32m--> 211\u001b[0;31m             \u001b[0;32mreturn\u001b[0m \u001b[0mfunc\u001b[0m\u001b[0;34m(\u001b[0m\u001b[0;34m*\u001b[0m\u001b[0margs\u001b[0m\u001b[0;34m,\u001b[0m \u001b[0;34m**\u001b[0m\u001b[0mkwargs\u001b[0m\u001b[0;34m)\u001b[0m\u001b[0;34m\u001b[0m\u001b[0;34m\u001b[0m\u001b[0m\n\u001b[0m\u001b[1;32m    212\u001b[0m \u001b[0;34m\u001b[0m\u001b[0m\n\u001b[1;32m    213\u001b[0m         \u001b[0;32mreturn\u001b[0m \u001b[0mcast\u001b[0m\u001b[0;34m(\u001b[0m\u001b[0mF\u001b[0m\u001b[0;34m,\u001b[0m \u001b[0mwrapper\u001b[0m\u001b[0;34m)\u001b[0m\u001b[0;34m\u001b[0m\u001b[0;34m\u001b[0m\u001b[0m\n",
            "\u001b[0;32m/usr/local/lib/python3.10/dist-packages/pandas/util/_decorators.py\u001b[0m in \u001b[0;36mwrapper\u001b[0;34m(*args, **kwargs)\u001b[0m\n\u001b[1;32m    329\u001b[0m                     \u001b[0mstacklevel\u001b[0m\u001b[0;34m=\u001b[0m\u001b[0mfind_stack_level\u001b[0m\u001b[0;34m(\u001b[0m\u001b[0;34m)\u001b[0m\u001b[0;34m,\u001b[0m\u001b[0;34m\u001b[0m\u001b[0;34m\u001b[0m\u001b[0m\n\u001b[1;32m    330\u001b[0m                 )\n\u001b[0;32m--> 331\u001b[0;31m             \u001b[0;32mreturn\u001b[0m \u001b[0mfunc\u001b[0m\u001b[0;34m(\u001b[0m\u001b[0;34m*\u001b[0m\u001b[0margs\u001b[0m\u001b[0;34m,\u001b[0m \u001b[0;34m**\u001b[0m\u001b[0mkwargs\u001b[0m\u001b[0;34m)\u001b[0m\u001b[0;34m\u001b[0m\u001b[0;34m\u001b[0m\u001b[0m\n\u001b[0m\u001b[1;32m    332\u001b[0m \u001b[0;34m\u001b[0m\u001b[0m\n\u001b[1;32m    333\u001b[0m         \u001b[0;31m# error: \"Callable[[VarArg(Any), KwArg(Any)], Any]\" has no\u001b[0m\u001b[0;34m\u001b[0m\u001b[0;34m\u001b[0m\u001b[0m\n",
            "\u001b[0;32m/usr/local/lib/python3.10/dist-packages/pandas/io/parsers/readers.py\u001b[0m in \u001b[0;36mread_csv\u001b[0;34m(filepath_or_buffer, sep, delimiter, header, names, index_col, usecols, squeeze, prefix, mangle_dupe_cols, dtype, engine, converters, true_values, false_values, skipinitialspace, skiprows, skipfooter, nrows, na_values, keep_default_na, na_filter, verbose, skip_blank_lines, parse_dates, infer_datetime_format, keep_date_col, date_parser, dayfirst, cache_dates, iterator, chunksize, compression, thousands, decimal, lineterminator, quotechar, quoting, doublequote, escapechar, comment, encoding, encoding_errors, dialect, error_bad_lines, warn_bad_lines, on_bad_lines, delim_whitespace, low_memory, memory_map, float_precision, storage_options)\u001b[0m\n\u001b[1;32m    948\u001b[0m     \u001b[0mkwds\u001b[0m\u001b[0;34m.\u001b[0m\u001b[0mupdate\u001b[0m\u001b[0;34m(\u001b[0m\u001b[0mkwds_defaults\u001b[0m\u001b[0;34m)\u001b[0m\u001b[0;34m\u001b[0m\u001b[0;34m\u001b[0m\u001b[0m\n\u001b[1;32m    949\u001b[0m \u001b[0;34m\u001b[0m\u001b[0m\n\u001b[0;32m--> 950\u001b[0;31m     \u001b[0;32mreturn\u001b[0m \u001b[0m_read\u001b[0m\u001b[0;34m(\u001b[0m\u001b[0mfilepath_or_buffer\u001b[0m\u001b[0;34m,\u001b[0m \u001b[0mkwds\u001b[0m\u001b[0;34m)\u001b[0m\u001b[0;34m\u001b[0m\u001b[0;34m\u001b[0m\u001b[0m\n\u001b[0m\u001b[1;32m    951\u001b[0m \u001b[0;34m\u001b[0m\u001b[0m\n\u001b[1;32m    952\u001b[0m \u001b[0;34m\u001b[0m\u001b[0m\n",
            "\u001b[0;32m/usr/local/lib/python3.10/dist-packages/pandas/io/parsers/readers.py\u001b[0m in \u001b[0;36m_read\u001b[0;34m(filepath_or_buffer, kwds)\u001b[0m\n\u001b[1;32m    603\u001b[0m \u001b[0;34m\u001b[0m\u001b[0m\n\u001b[1;32m    604\u001b[0m     \u001b[0;31m# Create the parser.\u001b[0m\u001b[0;34m\u001b[0m\u001b[0;34m\u001b[0m\u001b[0m\n\u001b[0;32m--> 605\u001b[0;31m     \u001b[0mparser\u001b[0m \u001b[0;34m=\u001b[0m \u001b[0mTextFileReader\u001b[0m\u001b[0;34m(\u001b[0m\u001b[0mfilepath_or_buffer\u001b[0m\u001b[0;34m,\u001b[0m \u001b[0;34m**\u001b[0m\u001b[0mkwds\u001b[0m\u001b[0;34m)\u001b[0m\u001b[0;34m\u001b[0m\u001b[0;34m\u001b[0m\u001b[0m\n\u001b[0m\u001b[1;32m    606\u001b[0m \u001b[0;34m\u001b[0m\u001b[0m\n\u001b[1;32m    607\u001b[0m     \u001b[0;32mif\u001b[0m \u001b[0mchunksize\u001b[0m \u001b[0;32mor\u001b[0m \u001b[0miterator\u001b[0m\u001b[0;34m:\u001b[0m\u001b[0;34m\u001b[0m\u001b[0;34m\u001b[0m\u001b[0m\n",
            "\u001b[0;32m/usr/local/lib/python3.10/dist-packages/pandas/io/parsers/readers.py\u001b[0m in \u001b[0;36m__init__\u001b[0;34m(self, f, engine, **kwds)\u001b[0m\n\u001b[1;32m   1440\u001b[0m \u001b[0;34m\u001b[0m\u001b[0m\n\u001b[1;32m   1441\u001b[0m         \u001b[0mself\u001b[0m\u001b[0;34m.\u001b[0m\u001b[0mhandles\u001b[0m\u001b[0;34m:\u001b[0m \u001b[0mIOHandles\u001b[0m \u001b[0;34m|\u001b[0m \u001b[0;32mNone\u001b[0m \u001b[0;34m=\u001b[0m \u001b[0;32mNone\u001b[0m\u001b[0;34m\u001b[0m\u001b[0;34m\u001b[0m\u001b[0m\n\u001b[0;32m-> 1442\u001b[0;31m         \u001b[0mself\u001b[0m\u001b[0;34m.\u001b[0m\u001b[0m_engine\u001b[0m \u001b[0;34m=\u001b[0m \u001b[0mself\u001b[0m\u001b[0;34m.\u001b[0m\u001b[0m_make_engine\u001b[0m\u001b[0;34m(\u001b[0m\u001b[0mf\u001b[0m\u001b[0;34m,\u001b[0m \u001b[0mself\u001b[0m\u001b[0;34m.\u001b[0m\u001b[0mengine\u001b[0m\u001b[0;34m)\u001b[0m\u001b[0;34m\u001b[0m\u001b[0;34m\u001b[0m\u001b[0m\n\u001b[0m\u001b[1;32m   1443\u001b[0m \u001b[0;34m\u001b[0m\u001b[0m\n\u001b[1;32m   1444\u001b[0m     \u001b[0;32mdef\u001b[0m \u001b[0mclose\u001b[0m\u001b[0;34m(\u001b[0m\u001b[0mself\u001b[0m\u001b[0;34m)\u001b[0m \u001b[0;34m->\u001b[0m \u001b[0;32mNone\u001b[0m\u001b[0;34m:\u001b[0m\u001b[0;34m\u001b[0m\u001b[0;34m\u001b[0m\u001b[0m\n",
            "\u001b[0;32m/usr/local/lib/python3.10/dist-packages/pandas/io/parsers/readers.py\u001b[0m in \u001b[0;36m_make_engine\u001b[0;34m(self, f, engine)\u001b[0m\n\u001b[1;32m   1733\u001b[0m                 \u001b[0;32mif\u001b[0m \u001b[0;34m\"b\"\u001b[0m \u001b[0;32mnot\u001b[0m \u001b[0;32min\u001b[0m \u001b[0mmode\u001b[0m\u001b[0;34m:\u001b[0m\u001b[0;34m\u001b[0m\u001b[0;34m\u001b[0m\u001b[0m\n\u001b[1;32m   1734\u001b[0m                     \u001b[0mmode\u001b[0m \u001b[0;34m+=\u001b[0m \u001b[0;34m\"b\"\u001b[0m\u001b[0;34m\u001b[0m\u001b[0;34m\u001b[0m\u001b[0m\n\u001b[0;32m-> 1735\u001b[0;31m             self.handles = get_handle(\n\u001b[0m\u001b[1;32m   1736\u001b[0m                 \u001b[0mf\u001b[0m\u001b[0;34m,\u001b[0m\u001b[0;34m\u001b[0m\u001b[0;34m\u001b[0m\u001b[0m\n\u001b[1;32m   1737\u001b[0m                 \u001b[0mmode\u001b[0m\u001b[0;34m,\u001b[0m\u001b[0;34m\u001b[0m\u001b[0;34m\u001b[0m\u001b[0m\n",
            "\u001b[0;32m/usr/local/lib/python3.10/dist-packages/pandas/io/common.py\u001b[0m in \u001b[0;36mget_handle\u001b[0;34m(path_or_buf, mode, encoding, compression, memory_map, is_text, errors, storage_options)\u001b[0m\n\u001b[1;32m    854\u001b[0m         \u001b[0;32mif\u001b[0m \u001b[0mioargs\u001b[0m\u001b[0;34m.\u001b[0m\u001b[0mencoding\u001b[0m \u001b[0;32mand\u001b[0m \u001b[0;34m\"b\"\u001b[0m \u001b[0;32mnot\u001b[0m \u001b[0;32min\u001b[0m \u001b[0mioargs\u001b[0m\u001b[0;34m.\u001b[0m\u001b[0mmode\u001b[0m\u001b[0;34m:\u001b[0m\u001b[0;34m\u001b[0m\u001b[0;34m\u001b[0m\u001b[0m\n\u001b[1;32m    855\u001b[0m             \u001b[0;31m# Encoding\u001b[0m\u001b[0;34m\u001b[0m\u001b[0;34m\u001b[0m\u001b[0m\n\u001b[0;32m--> 856\u001b[0;31m             handle = open(\n\u001b[0m\u001b[1;32m    857\u001b[0m                 \u001b[0mhandle\u001b[0m\u001b[0;34m,\u001b[0m\u001b[0;34m\u001b[0m\u001b[0;34m\u001b[0m\u001b[0m\n\u001b[1;32m    858\u001b[0m                 \u001b[0mioargs\u001b[0m\u001b[0;34m.\u001b[0m\u001b[0mmode\u001b[0m\u001b[0;34m,\u001b[0m\u001b[0;34m\u001b[0m\u001b[0;34m\u001b[0m\u001b[0m\n",
            "\u001b[0;31mFileNotFoundError\u001b[0m: [Errno 2] No such file or directory: '...\\\\Stage.csv'"
          ]
        }
      ]
    },
    {
      "cell_type": "markdown",
      "source": [
        "We designed two types of stages to design two methods U-TTree and H_U_TTree. which is in H_U_TTree data extracted from past medical history."
      ],
      "metadata": {
        "id": "_2a9-lIrfSnr"
      }
    },
    {
      "cell_type": "code",
      "source": [
        "from google.colab import drive\n",
        "drive.mount('/content/drive')"
      ],
      "metadata": {
        "id": "q5xIeMU0IzpN",
        "outputId": "bf11a8a7-5019-436a-f2b2-d52bab8c2355",
        "colab": {
          "base_uri": "https://localhost:8080/"
        }
      },
      "execution_count": 2,
      "outputs": [
        {
          "output_type": "stream",
          "name": "stdout",
          "text": [
            "Mounted at /content/drive\n"
          ]
        }
      ]
    },
    {
      "cell_type": "code",
      "source": [
        "Stage_df2=pd.read_csv('/content/drive/MyDrive/PID2.csv',sep='\u001b')\n",
        "Stage_df2\n",
        "Times=Stage_df2.Time.unique()\n",
        "TemporalEventTypes=Stage_df2.TemporalEventType.unique()\n",
        "Retro=Stage_df2.loc[Stage_df2['TemporalEventType']=='Retro','Event'].unique()\n",
        "print(Retro)\n",
        "Stage_df2"
      ],
      "metadata": {
        "id": "8IcSqA8IMdno",
        "outputId": "b16d8b24-19f7-4b42-b782-4bddc44f654e",
        "colab": {
          "base_uri": "https://localhost:8080/",
          "height": 224
        }
      },
      "execution_count": 3,
      "outputs": [
        {
          "output_type": "stream",
          "name": "stdout",
          "text": [
            "['DiseaseDisorderMention']\n"
          ]
        },
        {
          "output_type": "execute_result",
          "data": {
            "text/plain": [
              "   Time TemporalEventType                   Event            Value\n",
              "0     1             Retro  DiseaseDisorderMention  Diabet Mellitus\n",
              "1     1       New Finding             Demographic        Femail_40\n",
              "2     2       New Finding  DiseaseDisorderMention       Diabet_Neu\n",
              "3     3          RealTime                MainDrug          Insulin\n",
              "4     3          RealTime                 Glucose             High"
            ],
            "text/html": [
              "\n",
              "  <div id=\"df-b69ec369-d058-4dc0-ac19-38ab76024cc0\" class=\"colab-df-container\">\n",
              "    <div>\n",
              "<style scoped>\n",
              "    .dataframe tbody tr th:only-of-type {\n",
              "        vertical-align: middle;\n",
              "    }\n",
              "\n",
              "    .dataframe tbody tr th {\n",
              "        vertical-align: top;\n",
              "    }\n",
              "\n",
              "    .dataframe thead th {\n",
              "        text-align: right;\n",
              "    }\n",
              "</style>\n",
              "<table border=\"1\" class=\"dataframe\">\n",
              "  <thead>\n",
              "    <tr style=\"text-align: right;\">\n",
              "      <th></th>\n",
              "      <th>Time</th>\n",
              "      <th>TemporalEventType</th>\n",
              "      <th>Event</th>\n",
              "      <th>Value</th>\n",
              "    </tr>\n",
              "  </thead>\n",
              "  <tbody>\n",
              "    <tr>\n",
              "      <th>0</th>\n",
              "      <td>1</td>\n",
              "      <td>Retro</td>\n",
              "      <td>DiseaseDisorderMention</td>\n",
              "      <td>Diabet Mellitus</td>\n",
              "    </tr>\n",
              "    <tr>\n",
              "      <th>1</th>\n",
              "      <td>1</td>\n",
              "      <td>New Finding</td>\n",
              "      <td>Demographic</td>\n",
              "      <td>Femail_40</td>\n",
              "    </tr>\n",
              "    <tr>\n",
              "      <th>2</th>\n",
              "      <td>2</td>\n",
              "      <td>New Finding</td>\n",
              "      <td>DiseaseDisorderMention</td>\n",
              "      <td>Diabet_Neu</td>\n",
              "    </tr>\n",
              "    <tr>\n",
              "      <th>3</th>\n",
              "      <td>3</td>\n",
              "      <td>RealTime</td>\n",
              "      <td>MainDrug</td>\n",
              "      <td>Insulin</td>\n",
              "    </tr>\n",
              "    <tr>\n",
              "      <th>4</th>\n",
              "      <td>3</td>\n",
              "      <td>RealTime</td>\n",
              "      <td>Glucose</td>\n",
              "      <td>High</td>\n",
              "    </tr>\n",
              "  </tbody>\n",
              "</table>\n",
              "</div>\n",
              "    <div class=\"colab-df-buttons\">\n",
              "\n",
              "  <div class=\"colab-df-container\">\n",
              "    <button class=\"colab-df-convert\" onclick=\"convertToInteractive('df-b69ec369-d058-4dc0-ac19-38ab76024cc0')\"\n",
              "            title=\"Convert this dataframe to an interactive table.\"\n",
              "            style=\"display:none;\">\n",
              "\n",
              "  <svg xmlns=\"http://www.w3.org/2000/svg\" height=\"24px\" viewBox=\"0 -960 960 960\">\n",
              "    <path d=\"M120-120v-720h720v720H120Zm60-500h600v-160H180v160Zm220 220h160v-160H400v160Zm0 220h160v-160H400v160ZM180-400h160v-160H180v160Zm440 0h160v-160H620v160ZM180-180h160v-160H180v160Zm440 0h160v-160H620v160Z\"/>\n",
              "  </svg>\n",
              "    </button>\n",
              "\n",
              "  <style>\n",
              "    .colab-df-container {\n",
              "      display:flex;\n",
              "      gap: 12px;\n",
              "    }\n",
              "\n",
              "    .colab-df-convert {\n",
              "      background-color: #E8F0FE;\n",
              "      border: none;\n",
              "      border-radius: 50%;\n",
              "      cursor: pointer;\n",
              "      display: none;\n",
              "      fill: #1967D2;\n",
              "      height: 32px;\n",
              "      padding: 0 0 0 0;\n",
              "      width: 32px;\n",
              "    }\n",
              "\n",
              "    .colab-df-convert:hover {\n",
              "      background-color: #E2EBFA;\n",
              "      box-shadow: 0px 1px 2px rgba(60, 64, 67, 0.3), 0px 1px 3px 1px rgba(60, 64, 67, 0.15);\n",
              "      fill: #174EA6;\n",
              "    }\n",
              "\n",
              "    .colab-df-buttons div {\n",
              "      margin-bottom: 4px;\n",
              "    }\n",
              "\n",
              "    [theme=dark] .colab-df-convert {\n",
              "      background-color: #3B4455;\n",
              "      fill: #D2E3FC;\n",
              "    }\n",
              "\n",
              "    [theme=dark] .colab-df-convert:hover {\n",
              "      background-color: #434B5C;\n",
              "      box-shadow: 0px 1px 3px 1px rgba(0, 0, 0, 0.15);\n",
              "      filter: drop-shadow(0px 1px 2px rgba(0, 0, 0, 0.3));\n",
              "      fill: #FFFFFF;\n",
              "    }\n",
              "  </style>\n",
              "\n",
              "    <script>\n",
              "      const buttonEl =\n",
              "        document.querySelector('#df-b69ec369-d058-4dc0-ac19-38ab76024cc0 button.colab-df-convert');\n",
              "      buttonEl.style.display =\n",
              "        google.colab.kernel.accessAllowed ? 'block' : 'none';\n",
              "\n",
              "      async function convertToInteractive(key) {\n",
              "        const element = document.querySelector('#df-b69ec369-d058-4dc0-ac19-38ab76024cc0');\n",
              "        const dataTable =\n",
              "          await google.colab.kernel.invokeFunction('convertToInteractive',\n",
              "                                                    [key], {});\n",
              "        if (!dataTable) return;\n",
              "\n",
              "        const docLinkHtml = 'Like what you see? Visit the ' +\n",
              "          '<a target=\"_blank\" href=https://colab.research.google.com/notebooks/data_table.ipynb>data table notebook</a>'\n",
              "          + ' to learn more about interactive tables.';\n",
              "        element.innerHTML = '';\n",
              "        dataTable['output_type'] = 'display_data';\n",
              "        await google.colab.output.renderOutput(dataTable, element);\n",
              "        const docLink = document.createElement('div');\n",
              "        docLink.innerHTML = docLinkHtml;\n",
              "        element.appendChild(docLink);\n",
              "      }\n",
              "    </script>\n",
              "  </div>\n",
              "\n",
              "\n",
              "<div id=\"df-3265357c-780c-436c-bf14-b27f2a2b085e\">\n",
              "  <button class=\"colab-df-quickchart\" onclick=\"quickchart('df-3265357c-780c-436c-bf14-b27f2a2b085e')\"\n",
              "            title=\"Suggest charts\"\n",
              "            style=\"display:none;\">\n",
              "\n",
              "<svg xmlns=\"http://www.w3.org/2000/svg\" height=\"24px\"viewBox=\"0 0 24 24\"\n",
              "     width=\"24px\">\n",
              "    <g>\n",
              "        <path d=\"M19 3H5c-1.1 0-2 .9-2 2v14c0 1.1.9 2 2 2h14c1.1 0 2-.9 2-2V5c0-1.1-.9-2-2-2zM9 17H7v-7h2v7zm4 0h-2V7h2v10zm4 0h-2v-4h2v4z\"/>\n",
              "    </g>\n",
              "</svg>\n",
              "  </button>\n",
              "\n",
              "<style>\n",
              "  .colab-df-quickchart {\n",
              "      --bg-color: #E8F0FE;\n",
              "      --fill-color: #1967D2;\n",
              "      --hover-bg-color: #E2EBFA;\n",
              "      --hover-fill-color: #174EA6;\n",
              "      --disabled-fill-color: #AAA;\n",
              "      --disabled-bg-color: #DDD;\n",
              "  }\n",
              "\n",
              "  [theme=dark] .colab-df-quickchart {\n",
              "      --bg-color: #3B4455;\n",
              "      --fill-color: #D2E3FC;\n",
              "      --hover-bg-color: #434B5C;\n",
              "      --hover-fill-color: #FFFFFF;\n",
              "      --disabled-bg-color: #3B4455;\n",
              "      --disabled-fill-color: #666;\n",
              "  }\n",
              "\n",
              "  .colab-df-quickchart {\n",
              "    background-color: var(--bg-color);\n",
              "    border: none;\n",
              "    border-radius: 50%;\n",
              "    cursor: pointer;\n",
              "    display: none;\n",
              "    fill: var(--fill-color);\n",
              "    height: 32px;\n",
              "    padding: 0;\n",
              "    width: 32px;\n",
              "  }\n",
              "\n",
              "  .colab-df-quickchart:hover {\n",
              "    background-color: var(--hover-bg-color);\n",
              "    box-shadow: 0 1px 2px rgba(60, 64, 67, 0.3), 0 1px 3px 1px rgba(60, 64, 67, 0.15);\n",
              "    fill: var(--button-hover-fill-color);\n",
              "  }\n",
              "\n",
              "  .colab-df-quickchart-complete:disabled,\n",
              "  .colab-df-quickchart-complete:disabled:hover {\n",
              "    background-color: var(--disabled-bg-color);\n",
              "    fill: var(--disabled-fill-color);\n",
              "    box-shadow: none;\n",
              "  }\n",
              "\n",
              "  .colab-df-spinner {\n",
              "    border: 2px solid var(--fill-color);\n",
              "    border-color: transparent;\n",
              "    border-bottom-color: var(--fill-color);\n",
              "    animation:\n",
              "      spin 1s steps(1) infinite;\n",
              "  }\n",
              "\n",
              "  @keyframes spin {\n",
              "    0% {\n",
              "      border-color: transparent;\n",
              "      border-bottom-color: var(--fill-color);\n",
              "      border-left-color: var(--fill-color);\n",
              "    }\n",
              "    20% {\n",
              "      border-color: transparent;\n",
              "      border-left-color: var(--fill-color);\n",
              "      border-top-color: var(--fill-color);\n",
              "    }\n",
              "    30% {\n",
              "      border-color: transparent;\n",
              "      border-left-color: var(--fill-color);\n",
              "      border-top-color: var(--fill-color);\n",
              "      border-right-color: var(--fill-color);\n",
              "    }\n",
              "    40% {\n",
              "      border-color: transparent;\n",
              "      border-right-color: var(--fill-color);\n",
              "      border-top-color: var(--fill-color);\n",
              "    }\n",
              "    60% {\n",
              "      border-color: transparent;\n",
              "      border-right-color: var(--fill-color);\n",
              "    }\n",
              "    80% {\n",
              "      border-color: transparent;\n",
              "      border-right-color: var(--fill-color);\n",
              "      border-bottom-color: var(--fill-color);\n",
              "    }\n",
              "    90% {\n",
              "      border-color: transparent;\n",
              "      border-bottom-color: var(--fill-color);\n",
              "    }\n",
              "  }\n",
              "</style>\n",
              "\n",
              "  <script>\n",
              "    async function quickchart(key) {\n",
              "      const quickchartButtonEl =\n",
              "        document.querySelector('#' + key + ' button');\n",
              "      quickchartButtonEl.disabled = true;  // To prevent multiple clicks.\n",
              "      quickchartButtonEl.classList.add('colab-df-spinner');\n",
              "      try {\n",
              "        const charts = await google.colab.kernel.invokeFunction(\n",
              "            'suggestCharts', [key], {});\n",
              "      } catch (error) {\n",
              "        console.error('Error during call to suggestCharts:', error);\n",
              "      }\n",
              "      quickchartButtonEl.classList.remove('colab-df-spinner');\n",
              "      quickchartButtonEl.classList.add('colab-df-quickchart-complete');\n",
              "    }\n",
              "    (() => {\n",
              "      let quickchartButtonEl =\n",
              "        document.querySelector('#df-3265357c-780c-436c-bf14-b27f2a2b085e button');\n",
              "      quickchartButtonEl.style.display =\n",
              "        google.colab.kernel.accessAllowed ? 'block' : 'none';\n",
              "    })();\n",
              "  </script>\n",
              "</div>\n",
              "    </div>\n",
              "  </div>\n"
            ]
          },
          "metadata": {},
          "execution_count": 3
        }
      ]
    },
    {
      "cell_type": "code",
      "source": [
        "PG = nx.DiGraph()\n",
        "PG.add_node('PID')\n",
        "root='PID'\n",
        "for i in Times:\n",
        "  PG.add_node(i)\n",
        "  PG.add_edge(root,i)\n",
        "\n",
        "\n",
        "L_1=list(PG.successors(root))\n",
        "\n",
        "for i in L_1:\n",
        "\n",
        "  PG.add_node('Retro' + '-' +str(PG.number_of_nodes()), TE='Retro')\n",
        "  PG.add_edge(i,'Retro'  + '-' +str(PG.number_of_nodes()-1))\n",
        "  PG.add_node('New Finding'  + '-' +str(PG.number_of_nodes()), TE='New_Finding')\n",
        "  PG.add_edge(i,'New Finding'  + '-' +str(PG.number_of_nodes()-1))\n",
        "  PG.add_node('RealTime'  + '-' +str(PG.number_of_nodes()), TE='RealTime')\n",
        "  PG.add_edge(i,'RealTime'  + '-' +str(PG.number_of_nodes()-1))\n",
        "\n",
        "\n",
        "\n",
        "#-------------------------------------------------------------------------------------------------------\n",
        "L2_Retro=[x for x,y in PG.nodes(data=True) if list(y.keys())==['TE'] and list(y.values())==['Retro']]\n",
        "\n",
        "#or i in range(len(L2_Retro)):\n",
        "#        PG.add_node('PastEvent_' + L2_Retro[i] )\n",
        "#        PG.add_edge(L2_Retro[i] ,'PastEvent_' + L2_Retro[i] )\n",
        "\n",
        "#L3_Retro=list(filter(lambda x:'PastEvent_' in str(x),PG.nodes))\n",
        "\n",
        "for i in range(len(L2_Retro)):\n",
        "        PG.add_node('DiseaseDisorderMention' + '-' +str(PG.number_of_nodes()) ,value='Diabet Mellitus')\n",
        "        PG.add_edge(L2_Retro[i] ,'DiseaseDisorderMention' + '-' +str(PG.number_of_nodes()-1) )\n",
        "\n",
        "\n",
        "        PG.add_node('Demographic' + '-' +str(PG.number_of_nodes()) ,value='Femail_40')\n",
        "        PG.add_edge(L2_Retro[i] ,'Demographic' + '-' +str(PG.number_of_nodes()-1) )\n",
        "#-------------------------------------------------------------------------------------------------------\n",
        "L2_New_Finding=[x for x,y in PG.nodes(data=True) if list(y.keys())==['TE'] and list(y.values())==['New_Finding']]\n",
        "\n",
        "for i in range(len(L2_New_Finding)):\n",
        "  predecessor=list(PG.predecessors(L2_New_Finding[i]))\n",
        "  Tmp_df_New_Finding=Stage_df2.loc[(Stage_df2['TemporalEventType']=='New Finding') &\n",
        "                       (Stage_df2['Event']!='Demographic') & (Stage_df2['Time']==predecessor[0]), ['Event', 'Value']]\n",
        "  Ls_Event_New_Finding=Tmp_df_New_Finding.reset_index()[['Event', 'Value']].values.tolist()\n",
        "  if len(Ls_Event_New_Finding)>0:\n",
        "    for j in range(len(Ls_Event_New_Finding)):\n",
        "      PG.add_node(Ls_Event_New_Finding[j][0]+ '-' +str(PG.number_of_nodes()),value=Ls_Event_New_Finding[j][1])\n",
        "      PG.add_edge(L2_New_Finding[i],Ls_Event_New_Finding[j][0]+ '-' +str(PG.number_of_nodes()-1))\n",
        "\n",
        "#---------------------------------------------------------------------------------------------------------\n",
        "\n",
        "L2_RealTime=[x for x,y in PG.nodes(data=True) if list(y.keys())==['TE'] and list(y.values())==['RealTime']]\n",
        "\n",
        "for i in range(len(L2_RealTime)):\n",
        "  predecessor=list(PG.predecessors(L2_RealTime[i]))\n",
        "  Tmp_df_RealTime=Stage_df2.loc[(Stage_df2['TemporalEventType']=='RealTime') &\n",
        "                                   (Stage_df2['Time']==predecessor[0]), ['Event', 'Value']]\n",
        "  Ls_Event_RealTime=Tmp_df_RealTime.reset_index()[['Event', 'Value']].values.tolist()\n",
        "  if len(Ls_Event_RealTime)>0:\n",
        "    for j in range(len(Ls_Event_RealTime)):\n",
        "      PG.add_node(Ls_Event_RealTime[j][0]+ '-' +str(PG.number_of_nodes()),value=Ls_Event_RealTime[j][1])\n",
        "      PG.add_edge(L2_RealTime[i],Ls_Event_RealTime[j][0]+ '-' +str(PG.number_of_nodes()-1))\n",
        "\n",
        "#---------------------------------------------------------------------------------------------------------\n",
        "remove_nodes=[]\n",
        "for node in PG.nodes:\n",
        "   if (nx.shortest_path_length(PG, source='PID', target=node)==2 and PG.out_degree(node)==0):\n",
        "     remove_nodes.append(node)\n",
        "for i in remove_nodes:\n",
        "  PG.remove_node(i)\n",
        "#---------------------------------------------------------------------------------------------------------\n",
        "pos = hierarchy_pos(PG,'PID')\n",
        "\n",
        "plt.figure(1)\n",
        "plt.figure(2,figsize=(20,5))\n",
        "nx.draw(PG, pos=pos,with_labels=True,node_size = 100,node_color = 'cyan')\n",
        "plt.show()"
      ],
      "metadata": {
        "id": "NIC7gkY_ydym",
        "outputId": "c7a7c4a3-b9e5-444f-f284-e3cb00e0d103",
        "colab": {
          "base_uri": "https://localhost:8080/",
          "height": 378
        }
      },
      "execution_count": 61,
      "outputs": [
        {
          "output_type": "display_data",
          "data": {
            "text/plain": [
              "<Figure size 640x480 with 0 Axes>"
            ]
          },
          "metadata": {}
        },
        {
          "output_type": "display_data",
          "data": {
            "text/plain": [
              "<Figure size 2000x500 with 1 Axes>"
            ],
            "image/png": "[encoded data removed]"
          },
          "metadata": {}
        }
      ]
    },
    {
      "cell_type": "code",
      "source": [
        "def hierarchy_pos(G, root, levels=None, width=1., height=1.):\n",
        "    '''If there is a cycle that is reachable from root, then this will see infinite recursion.\n",
        "       G: the graph\n",
        "       root: the root node\n",
        "       levels: a dictionary\n",
        "               key: level number (starting from 0)\n",
        "               value: number of nodes in this level\n",
        "       width: horizontal space allocated for drawing\n",
        "       height: vertical space allocated for drawing'''\n",
        "    TOTAL = \"total\"\n",
        "    CURRENT = \"current\"\n",
        "    def make_levels(levels, node=root, currentLevel=0, parent=None):\n",
        "        \"\"\"Compute the number of nodes for each level\n",
        "        \"\"\"\n",
        "        if not currentLevel in levels:\n",
        "            levels[currentLevel] = {TOTAL : 0, CURRENT : 0}\n",
        "        levels[currentLevel][TOTAL] += 1\n",
        "        neighbors = G.neighbors(node)\n",
        "        for neighbor in neighbors:\n",
        "            if not neighbor == parent:\n",
        "                levels =  make_levels(levels, neighbor, currentLevel + 1, node)\n",
        "        return levels\n",
        "\n",
        "    def make_pos(pos, node=root, currentLevel=0, parent=None, vert_loc=0):\n",
        "        dx = 1/levels[currentLevel][TOTAL]\n",
        "        left = dx/2\n",
        "        pos[node] = ((left + dx*levels[currentLevel][CURRENT])*width, vert_loc)\n",
        "        levels[currentLevel][CURRENT] += 1\n",
        "        neighbors = G.neighbors(node)\n",
        "        for neighbor in neighbors:\n",
        "            if not neighbor == parent:\n",
        "                pos = make_pos(pos, neighbor, currentLevel + 1, node, vert_loc-vert_gap)\n",
        "        return pos\n",
        "    if levels is None:\n",
        "        levels = make_levels({})\n",
        "    else:\n",
        "        levels = {l:{TOTAL: levels[l], CURRENT:0} for l in levels}\n",
        "    vert_gap = height / (max([l for l in levels])+1)\n",
        "    return make_pos({})"
      ],
      "metadata": {
        "id": "EI11fFj0EL67"
      },
      "execution_count": 5,
      "outputs": []
    },
    {
      "cell_type": "code",
      "source": [],
      "metadata": {
        "id": "0K5dIHCoENFp"
      },
      "execution_count": null,
      "outputs": []
    },
    {
      "cell_type": "code",
      "source": [
        "EElist_Subject_id=Stage_df1['Subject_id'].unique().tolist()\n",
        "list_Events=['procedure','Drug','past medical history']\n",
        "foot_print=[]\n",
        "Subgraph_id_num=3\n",
        "list_sen=[]\n",
        "counter=1\n",
        "print(len(list_Subject_id))\n",
        "G_Global = nx.Graph()\n",
        "for row_1 in list_Subject_id:\n",
        "    root=''\n",
        "    G = nx.Graph()\n",
        "    foot_print=[]\n",
        "    foot_print.append('DiseaseDisorderMention')\n",
        "    foot_print.append('procedure')\n",
        "    foot_print.append('Drug')\n",
        "    label=\"Patient_\"\n",
        "    foot_print.append(label+str(row_1))\n",
        "    G.add_node(label+str(row_1))\n",
        "    root=label+str(row_1)\n",
        "    for row_2 in range(Subgraph_id_num):\n",
        "            label=\"SG_\"\n",
        "\n",
        "            G.add_node(label+str(row_2))\n",
        "            foot_print.append(label+str(row_2))\n",
        "            G.add_edge(\"Patient_\"+str(row_1), label+str(row_2))\n",
        "            if row_2==1:\n",
        "                list_Timestame=Stage_df1.loc[Stage_df1['Subject_id']==row_1]['Timestame_id'].unique().tolist()\n",
        "                list_Timestame.sort()\n",
        "                for index, row_3 in enumerate(list_Timestame):\n",
        "                    label=\"T_\"\n",
        "\n",
        "                    current=label+str(index)\n",
        "\n",
        "                    G.add_node(current)\n",
        "                    foot_print.append(current)\n",
        "\n",
        "                    if index==0:\n",
        "                            previous=\"SG_\"+str(row_2)\n",
        "\n",
        "\n",
        "                    elif index>0:\n",
        "                            previous = label+str(index-1)\n",
        "\n",
        "                    G.add_edge(previous, current)\n",
        "                    foot_print.append(previous)\n",
        "\n",
        "                    list_Events=[]\n",
        "                    list_Events=list(Stage_df1.loc[(Stage_df1['Subject_id']==row_1) & (Stage_df1['Subgraph_id']==row_2) & (Stage_df1['Timestame_id']==row_3)]['Event type'].unique())\n",
        "\n",
        "                    #print(list_Events)\n",
        "                    for row_4 in list_Events:\n",
        "                            label=\"T\"+str(index) + \"_E \"\n",
        "\n",
        "                            foot_print.append(\"T\"+str(index) + \"_E\")\n",
        "\n",
        "                            inx=list(Stage_df1.index[(Stage_df1['Subject_id']==row_1) & (Stage_df1['Subgraph_id']==row_2) & (Stage_df1['Timestame_id']==row_3)& (Stage_df1['Event type']==row_4)])\n",
        "\n",
        "                            entity=label +str(row_4)+' '+str(Stage_df1.iloc[inx[0]]['entity'])\n",
        "                            value=''\n",
        "                            for index, row_5 in enumerate(inx):\n",
        "                                value=value+' '+str(Stage_df1.iloc[row_5]['value'])\n",
        "                            value=label +str(row_4)+' '+value\n",
        "\n",
        "                            G.add_node(entity+' '+value)\n",
        "                            G.add_edge(current, entity+' '+value)\n",
        "\n",
        "    #graph_plit(G)\n",
        "    list_sen.append([row_1,traverse_tree(G,root,foot_print)])\n",
        "    print(counter,row_1)\n",
        "    counter=counter+1\n",
        "    G_Global=G\n",
        "G_Global"
      ],
      "metadata": {
        "id": "7x0Hww2zdfuT",
        "outputId": "0a11e91a-cf64-4fa3-bc2e-9f898eb7005a",
        "colab": {
          "base_uri": "https://localhost:8080/"
        }
      },
      "execution_count": null,
      "outputs": [
        {
          "output_type": "stream",
          "name": "stdout",
          "text": [
            "1\n",
            "1 123\n"
          ]
        },
        {
          "output_type": "execute_result",
          "data": {
            "text/plain": [
              "<networkx.classes.graph.Graph at 0x7c53f1379bd0>"
            ]
          },
          "metadata": {},
          "execution_count": 66
        }
      ]
    },
    {
      "cell_type": "code",
      "source": [],
      "metadata": {
        "id": "5xitrvGVjfQG"
      },
      "execution_count": null,
      "outputs": []
    },
    {
      "cell_type": "code",
      "source": [],
      "metadata": {
        "id": "HFCZFQfKjcu4"
      },
      "execution_count": null,
      "outputs": []
    },
    {
      "cell_type": "code",
      "source": [
        "sen=pd.DataFrame(list_sen,columns=['Subject_id','String'])\n",
        "sen.loc[0].String"
      ],
      "metadata": {
        "id": "hf3RtDAtdfsJ",
        "outputId": "a2a8689c-d098-4a64-d7ff-7a49a5482836",
        "colab": {
          "base_uri": "https://localhost:8080/",
          "height": 53
        }
      },
      "execution_count": null,
      "outputs": [
        {
          "output_type": "execute_result",
          "data": {
            "text/plain": [
              "' proc1 1 proc2 2 d1 1 2 d3 3 past medical history m1 past medical history 1 past medical history m2 past medical history 2 past medical history m3 past medical history 3 past medical history m4 past medical history 4'"
            ],
            "application/vnd.google.colaboratory.intrinsic+json": {
              "type": "string"
            }
          },
          "metadata": {},
          "execution_count": 60
        }
      ]
    },
    {
      "cell_type": "code",
      "source": [
        "sorted(G_Global)\n",
        "\n",
        "\n"
      ],
      "metadata": {
        "id": "W1s9rgoJjAfM",
        "outputId": "c6d84a6c-0060-4419-fa81-c400556eb73e",
        "colab": {
          "base_uri": "https://localhost:8080/"
        }
      },
      "execution_count": null,
      "outputs": [
        {
          "output_type": "execute_result",
          "data": {
            "text/plain": [
              "['Patient_123',\n",
              " 'SG_0',\n",
              " 'SG_1',\n",
              " 'SG_2',\n",
              " 'T0_E procedure proc1 T0_E procedure  1',\n",
              " 'T1_E procedure proc2 T1_E procedure  2',\n",
              " 'T2_E Drug d1 T2_E Drug  1 2',\n",
              " 'T3_E Drug d3 T3_E Drug  3',\n",
              " 'T4_E past medical history m1 T4_E past medical history  1',\n",
              " 'T5_E past medical history m2 T5_E past medical history  2',\n",
              " 'T6_E past medical history m3 T6_E past medical history  3',\n",
              " 'T7_E past medical history m4 T7_E past medical history  4',\n",
              " 'T_0',\n",
              " 'T_1',\n",
              " 'T_2',\n",
              " 'T_3',\n",
              " 'T_4',\n",
              " 'T_5',\n",
              " 'T_6',\n",
              " 'T_7',\n",
              " 'T_8']"
            ]
          },
          "metadata": {},
          "execution_count": 67
        }
      ]
    },
    {
      "cell_type": "code",
      "source": [
        "G=nx.Graph()\n",
        "G.add_node(1)\n",
        "G.add_node(2)\n",
        "G.add_node(3)\n",
        "G.add_node(0)\n",
        "G.add_edge(1,2)\n",
        "G.add_edge(1,3)\n",
        "G.add_edge(0,1)\n",
        "G.add_edge(0,4)\n",
        "\n",
        "root=0\n",
        "pos = nx.spring_layout(G, seed=3113794652)  # positions for all nodes\n",
        "\n",
        "\n",
        "\n",
        "\n",
        "plt.figure(1)\n",
        "plt.figure(2,figsize=(2,2))\n",
        "\n",
        "nx.draw(G,with_labels=True,node_size = 1000,node_color = 'cyan')\n",
        "plt.show()\n",
        "\n",
        "D=dict(nx.bfs_predecessors(G, 0))\n",
        "print(D)\n",
        "\n",
        "L_D_1=[str(k) for k,v in D.items() if str(v) == '1']\n",
        "new_label_1='-'.join(L_D_1)\n",
        "\n",
        "mapping = {1:new_label_1}\n",
        "G = nx.relabel_nodes(G, mapping)\n",
        "\n",
        "plt.figure(1)\n",
        "plt.figure(2,figsize=(2,2))\n",
        "nx.draw(G,with_labels=True,node_size = 1000,node_color = 'cyan')\n",
        "plt.show()\n",
        "\n",
        "D=dict(nx.bfs_predecessors(G, 0))\n",
        "print(D)\n",
        "\n",
        "L_D_0=[str(k) for k,v in D.items() if str(v) == '0']\n",
        "new_label_0='-'.join(L_D_0)\n",
        "print(new_label_0)\n",
        "mapping = {0:new_label_0}\n",
        "root=new_label_0\n",
        "G = nx.relabel_nodes(G, mapping)\n",
        "\n",
        "plt.figure(1)\n",
        "plt.figure(2,figsize=(2,2))\n",
        "nx.draw(G,with_labels=True,node_size = 1000,node_color = 'cyan')\n",
        "plt.show()\n",
        "T = nx.bfs_tree(G, source=root)\n",
        "print(T)"
      ],
      "metadata": {
        "id": "rGn9dB_DjdW2",
        "outputId": "6570211c-c8e8-4447-be02-5947bda9b290",
        "colab": {
          "base_uri": "https://localhost:8080/",
          "height": 799
        }
      },
      "execution_count": null,
      "outputs": [
        {
          "output_type": "display_data",
          "data": {
            "text/plain": [
              "<Figure size 640x480 with 0 Axes>"
            ]
          },
          "metadata": {}
        },
        {
          "output_type": "display_data",
          "data": {
            "text/plain": [
              "<Figure size 200x200 with 1 Axes>"
            ],
            "image/png": "[encoded data removed]"
          },
          "metadata": {}
        },
        {
          "output_type": "stream",
          "name": "stdout",
          "text": [
            "{1: 0, 4: 0, 2: 1, 3: 1}\n"
          ]
        },
        {
          "output_type": "display_data",
          "data": {
            "text/plain": [
              "<Figure size 640x480 with 0 Axes>"
            ]
          },
          "metadata": {}
        },
        {
          "output_type": "display_data",
          "data": {
            "text/plain": [
              "<Figure size 200x200 with 1 Axes>"
            ],
            "image/png": "[encoded data removed]"
          },
          "metadata": {}
        },
        {
          "output_type": "stream",
          "name": "stdout",
          "text": [
            "{'2-3': 0, 4: 0, 2: '2-3', 3: '2-3'}\n",
            "2-3-4\n"
          ]
        },
        {
          "output_type": "display_data",
          "data": {
            "text/plain": [
              "<Figure size 640x480 with 0 Axes>"
            ]
          },
          "metadata": {}
        },
        {
          "output_type": "display_data",
          "data": {
            "text/plain": [
              "<Figure size 200x200 with 1 Axes>"
            ],
            "image/png": "[encoded data removed]"
          },
          "metadata": {}
        },
        {
          "output_type": "stream",
          "name": "stdout",
          "text": [
            "DiGraph with 5 nodes and 4 edges\n"
          ]
        }
      ]
    },
    {
      "cell_type": "code",
      "source": [
        "bfs_string=list(T.nodes())\n",
        "bfs_string"
      ],
      "metadata": {
        "id": "Nzj-lURbpRUp",
        "outputId": "5dfc68cc-88f7-4032-aef1-e46dc2a6af43",
        "colab": {
          "base_uri": "https://localhost:8080/"
        }
      },
      "execution_count": null,
      "outputs": [
        {
          "output_type": "execute_result",
          "data": {
            "text/plain": [
              "['2-3-4', '2-3', 4, 2, 3]"
            ]
          },
          "metadata": {},
          "execution_count": 130
        }
      ]
    },
    {
      "cell_type": "code",
      "source": [
        "mapping = {0: \"a\", 1: \"b\", 2: \"c\"}\n",
        "H = nx.relabel_nodes(G, mapping)\n",
        "sorted(H)"
      ],
      "metadata": {
        "id": "ooFr_OV7jS97",
        "outputId": "c901f1de-0080-4ac3-c6bd-f6ef883d3d5c",
        "colab": {
          "base_uri": "https://localhost:8080/"
        }
      },
      "execution_count": null,
      "outputs": [
        {
          "output_type": "execute_result",
          "data": {
            "text/plain": [
              "['a', 'b', 'c']"
            ]
          },
          "metadata": {},
          "execution_count": 62
        }
      ]
    },
    {
      "cell_type": "code",
      "source": [
        "def traverse_tree(G,source,foot_print):\n",
        "    T = nx.bfs_tree(G, source=root)\n",
        "    bfs_string=list(T.nodes())\n",
        "\n",
        "    new=[]\n",
        "    stopwords = foot_print\n",
        "    tokenized_sents = [word_tokenize(i) for i in bfs_string]\n",
        "    for i in tokenized_sents:\n",
        "        words=i\n",
        "        for word in list(words):  # iterating on a copy since removing will mess things up\n",
        "            if word in stopwords:\n",
        "                words.remove(word)\n",
        "        if(len(words)>0):\n",
        "            new.append(words)\n",
        "    sen=''\n",
        "    for i in range(len(new)):\n",
        "        sen=sen +' '+(' '.join(map(str, new[i])))\n",
        "    return(sen)"
      ],
      "metadata": {
        "id": "KMGYGnlIdfpc"
      },
      "execution_count": null,
      "outputs": []
    },
    {
      "cell_type": "markdown",
      "source": [
        "In this cell we can plot a generated graph."
      ],
      "metadata": {
        "id": "8YShpfIVgDld"
      }
    },
    {
      "cell_type": "code",
      "source": [
        "def graph_plit(G):\n",
        "\n",
        "    G.nodes\n",
        "    plt.figure(1)\n",
        "    plt.figure(2,figsize=(2,2))\n",
        "\n",
        "    list_root=[label+str(row_1)]\n",
        "    list_subgraph=['SG_1','SG_2','SG_0']\n",
        "    list_Time=['T_1','T_2']\n",
        "    pos=nx.spring_layout(G)\n",
        "\n",
        "    nx.draw(G, pos=pos, node_size = 1200, with_labels=True,node_color = 'silver')\n",
        "    nx.draw_networkx_nodes(G, pos=pos,nodelist = list_root, node_color = 'red', node_size = 1500)\n",
        "    nx.draw_networkx_nodes(G, pos=pos,nodelist = list_subgraph, node_color = 'orange', node_size = 1400)\n",
        "    nx.draw_networkx_nodes(G, pos=pos,nodelist = list_Time, node_color = 'gold', node_size = 1300)\n",
        "    nx.draw(G,with_labels=True,node_size = 1500,node_color = 'cyan')\n",
        "    nx.draw_networkx_nodes(G, nodelist = ['Patient_1'], node_color = 'red', node_size = 200)\n",
        "    plt.show()"
      ],
      "metadata": {
        "id": "ZceHqS3HdfnO"
      },
      "execution_count": null,
      "outputs": []
    },
    {
      "cell_type": "markdown",
      "source": [
        "When method breadth first search is used to traverse the generated tree, the following alternative way can be used to generate compounds.\n",
        "What is important is to maintain the order of clinical events in each time window."
      ],
      "metadata": {
        "id": "Nw68bQbSgJiN"
      }
    },
    {
      "cell_type": "code",
      "source": [
        "ls_doc_patient=[]\n",
        "for i in range(len(ls_patient)):\n",
        "    try:\n",
        "    #for each patients\n",
        "        print(ls_patient[i])\n",
        "        df_tmp=Stage_Total.loc[Stage_Total['admission_Id']==ls_patient[i]]\n",
        "        ls_time=df_tmp.Timestame_id.unique().tolist()\n",
        "        ls_time.sort()\n",
        "        UnD=Stage_df_Note.loc[(Stage_df_Note['ID']==ls_patient[i]),['ICD'] ].values[0]\n",
        "\n",
        "\n",
        "        doc_S_Non_TT=''\n",
        "        doc_U_Non_TT=''\n",
        "        doc_S_TT=''\n",
        "        doc_S_U_TT=''\n",
        "        doc_S_U_TT_R=''\n",
        "        for j in range(len(ls_time)):\n",
        "            # in each time windows\n",
        "            df_tmp_ent=df_tmp.loc[df_tmp['Timestame_id']==ls_time[j]]\n",
        "            df_tmp_ent=df_tmp_ent.sort_values('entity')\n",
        "\n",
        "            tmp_S_Non_TT=''\n",
        "            tmp_U_Non_TT=''\n",
        "            tmp_S_TT=''\n",
        "            tmp_S_U_TT=''\n",
        "            tmp_S_U_TT_R=''\n",
        "\n",
        "            for k in range(len(df_tmp_ent)):\n",
        "                tmp_S_Non_TT=tmp_S_Non_TT+ ' ' + re.sub(r\"\\W+|_-\", \"\", df_tmp_ent.iloc[k].entity)\n",
        "            doc_S_Non_TT=doc_S_Non_TT+ tmp_S_Non_TT\n",
        "    #---------------------------------------------------------\n",
        "            for k in range(len(df_tmp_ent)):\n",
        "                tmp_S_TT=tmp_S_TT + re.sub(r\"\\W+|_-\", \"\", df_tmp_ent.iloc[k].entity) + \\\n",
        "                                               re.sub(r\"\\W+|_-\", \"\", df_tmp_ent.iloc[k].value)\n",
        "            doc_S_TT=doc_S_TT+ ' ' +tmp_S_TT\n",
        "    #---------------------------------------------------------\n",
        "\n",
        "            tmp_S_U_TT_R=tmp_S_U_TT_R+' '+tmp_S_TT+' '+ re.sub(r\"\\W+|_-\", \" \", str(UnD))\n",
        "            doc_S_U_TT_R=doc_S_U_TT_R+ ' ' +tmp_S_U_TT_R\n",
        "\n",
        "        doc_S_U_TT=doc_S_TT + ' ' + UnD\n",
        "        doc_U_Non_TT=df_U_pref.loc[df_U['ID']==ls_patient[i]].Doc\n",
        "        ls_doc_patient.append([ls_patient[i],doc_S_Non_TT,doc_U_Non_TT,doc_S_TT,doc_S_U_TT,doc_S_U_TT_R])\n",
        "\n",
        "    except:\n",
        "        print('error')\n",
        "\n",
        "\n",
        "\n",
        "\n",
        "st=pd.DataFrame(ls_doc_patient,columns=['ID','doc_S_Non_TT','doc_U_Non_TT','doc_S_TT','doc_S_U_TT','doc_S_U_TT_R'])\n",
        "st"
      ],
      "metadata": {
        "id": "ELVc2J9Gdfkz"
      },
      "execution_count": null,
      "outputs": []
    },
    {
      "cell_type": "code",
      "source": [],
      "metadata": {
        "id": "PtGAuUH4dfik"
      },
      "execution_count": null,
      "outputs": []
    },
    {
      "cell_type": "code",
      "source": [],
      "metadata": {
        "id": "pUZq9C5vdff9"
      },
      "execution_count": null,
      "outputs": []
    }
  ]
}