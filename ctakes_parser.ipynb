{
  "nbformat": 4,
  "nbformat_minor": 0,
  "metadata": {
    "colab": {
      "name": "ctakes_parser.ipynb",
      "provenance": [],
      "authorship_tag": "ABX9TyM0r7hj7buKPMxdPVSGhF3H",
      "include_colab_link": true
    },
    "kernelspec": {
      "name": "python3",
      "display_name": "Python 3"
    },
    "language_info": {
      "name": "python"
    }
  },
  "cells": [
    {
      "cell_type": "markdown",
      "metadata": {
        "id": "view-in-github",
        "colab_type": "text"
      },
      "source": [
        "<a href=\"https://colab.research.google.com/github/HodaMemar/Patient-Similarity-through-Representation/blob/main/ctakes_parser.ipynb\" target=\"_parent\"><img src=\"https://colab.research.google.com/assets/colab-badge.svg\" alt=\"Open In Colab\"/></a>"
      ]
    },
    {
      "cell_type": "markdown",
      "source": [
        "If tool ctakes is used for NER, the following code can be used to process the outputs"
      ],
      "metadata": {
        "id": "q3PFH5SdhvQ7"
      }
    },
    {
      "cell_type": "code",
      "execution_count": null,
      "metadata": {
        "id": "8ZK3-XFIhquC"
      },
      "outputs": [],
      "source": [
        "import os\n",
        "import pytest\n",
        "from ctakes_parser import ctakes_parser as parser\n",
        "from datetime import datetime\n",
        "import pandas as pd"
      ]
    },
    {
      "cell_type": "code",
      "source": [
        "\n",
        "vv_SUBJECT_ID=[]\n",
        "vv_HADM_ID=[]\n",
        "vv_CHARTDATE=[]\n",
        "vv_txt_counter=[]\n",
        "\n",
        "\n",
        "repository_df = pd.DataFrame(columns=['cui','pos_start','negated','preferred_text','textsem','true_text','part_of_speech',\\\n",
        "                                      ])\n",
        "for i in range(49700):\n",
        "    \n",
        "    xmi_df = pd.DataFrame(columns=['cui','pos_start','negated','preferred_text','textsem','true_text','part_of_speech',\\\n",
        "                                   ])\n",
        "  \n",
        "    file_path='...\\'+ str(i) +'.txt.xmi'\n",
        "    print(i)\n",
        "    try:\n",
        "        if os.path.isfile(file_path) == True :\n",
        "                    xmi_df = parser.parse_file(file_path)\n",
        "                    \n",
        "                    xmi_df.sort_values('pos_start')\n",
        "                    xmi_df=xmi_df[['cui','pos_start','negated','preferred_text','textsem','true_text','part_of_speech']]\n",
        "                \n",
        "                    xmi_df.drop_duplicates(subset =\"cui\", keep='last', inplace = True)\n",
        "\n",
        "    except:\n",
        "        print(i , 'Error')\n",
        "    \n",
        "    if len(xmi_df)>0:\n",
        "        frames = [repository_df,xmi_df]\n",
        "        repository_df = pd.concat(frames)\n",
        "        repository_df.reset_index(drop=True)"
      ],
      "metadata": {
        "id": "17WqLmFgiInk"
      },
      "execution_count": null,
      "outputs": []
    },
    {
      "cell_type": "code",
      "source": [
        ""
      ],
      "metadata": {
        "id": "wycxCy_2iPGc"
      },
      "execution_count": null,
      "outputs": []
    },
    {
      "cell_type": "markdown",
      "source": [
        "All duplicates are removed because this is supposed to be a dictionary of all extracted concepts"
      ],
      "metadata": {
        "id": "m1pJ3Z61iXcj"
      }
    },
    {
      "cell_type": "code",
      "source": [
        "repository_df.drop_duplicates(subset =\"cui\", keep='last', inplace = True)\n",
        "print(len(repository_df))\n",
        "repository_df.head()"
      ],
      "metadata": {
        "id": "AKKuadQIiPYS"
      },
      "execution_count": null,
      "outputs": []
    },
    {
      "cell_type": "code",
      "source": [
        "repository_df.loc[(repository_df['part_of_speech'].str.contains('NNS')==True) &\\\n",
        "                 (repository_df['textsem'].str.contains('SignSymptomMention')==True)]"
      ],
      "metadata": {
        "id": "ggU2BOfyiexr"
      },
      "execution_count": null,
      "outputs": []
    },
    {
      "cell_type": "markdown",
      "source": [
        "Here, a series of unrelated terms and anything other than disease and symptoms are removed\n",
        "\n",
        "---\n",
        "This step can be used in the use of other NER tools as well.\n",
        "This issue is related to the field of identifying Keyphrase\n"
      ],
      "metadata": {
        "id": "8iKE1eh3imfD"
      }
    },
    {
      "cell_type": "code",
      "source": [
        "repository_df=repository_df.loc[  (repository_df['textsem'].str.contains('DiseaseDisorderMention|SignSymptomMention')==True) & \\\n",
        "                                        (repository_df['cui'].str.contains('C0558145|C0231683|C0026606')==False)]\n",
        "print(len(repository_df))\n",
        "repository_df.head()"
      ],
      "metadata": {
        "id": "H8SZqT2hinTT"
      },
      "execution_count": null,
      "outputs": []
    },
    {
      "cell_type": "code",
      "source": [
        "repository_df.to_csv('...\\repository_cui.csv')"
      ],
      "metadata": {
        "id": "ZS-K1vuIi2n9"
      },
      "execution_count": null,
      "outputs": []
    }
  ]
}