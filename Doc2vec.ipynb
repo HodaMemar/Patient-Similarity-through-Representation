{
  "nbformat": 4,
  "nbformat_minor": 0,
  "metadata": {
    "colab": {
      "name": "Doc2vec.ipynb",
      "provenance": [],
      "authorship_tag": "ABX9TyPajfPfRSpD20rFpX7p8kC7",
      "include_colab_link": true
    },
    "kernelspec": {
      "name": "python3",
      "display_name": "Python 3"
    },
    "language_info": {
      "name": "python"
    }
  },
  "cells": [
    {
      "cell_type": "markdown",
      "metadata": {
        "id": "view-in-github",
        "colab_type": "text"
      },
      "source": [
        "<a href=\"https://colab.research.google.com/github/HodaMemar/Patient-Similarity-through-Representation/blob/main/Doc2vec.ipynb\" target=\"_parent\"><img src=\"https://colab.research.google.com/assets/colab-badge.svg\" alt=\"Open In Colab\"/></a>"
      ]
    },
    {
      "cell_type": "code",
      "execution_count": null,
      "metadata": {
        "id": "knm-aaKejphP"
      },
      "outputs": [],
      "source": [
        "import re\n",
        "import nltk\n",
        "import time\n",
        "from gensim.models.doc2vec import Doc2Vec, TaggedDocument\n",
        "from nltk import word_tokenize \n",
        "import pandas as pd"
      ]
    },
    {
      "cell_type": "markdown",
      "source": [
        "In this part, an enriched string is produced for each patient. And to produce the representation, it is given as an input to Algorithm Doc2vec."
      ],
      "metadata": {
        "id": "PHyl5Ehuj63w"
      }
    },
    {
      "cell_type": "code",
      "source": [
        "\n",
        "docS_U_TT_R=pd.read_csv('D:\\\\Embedding\\\\Code\\\\A2021\\\\Stages\\\\'+title+'.csv')\n",
        "docS_U_TT_R = docS_U_TT_R.drop('Unnamed: 0', 1)\n",
        "docS_U_TT_R"
      ],
      "metadata": {
        "id": "HaqgJ-oSju1S"
      },
      "execution_count": null,
      "outputs": []
    },
    {
      "cell_type": "code",
      "source": [
        "sen = pd.DataFrame({'ID':[ None], 'doc':[None]})\n",
        "docS_U_TT_R.columns = ['ID', 'doc']\n",
        "sen=docS_U_TT_R\n",
        "len(sen)"
      ],
      "metadata": {
        "id": "JxsT_14xjuys"
      },
      "execution_count": null,
      "outputs": []
    },
    {
      "cell_type": "code",
      "source": [
        "import re\n",
        "ls_ID=sen.ID.unique().tolist()\n",
        "ls_sen=[]\n",
        "for i in range(len(ls_ID)):\n",
        "    s=str(sen.loc[sen['ID']==ls_ID[i],['doc']].values[0])\n",
        "\n",
        "    ls_sen.append(s)\n",
        "sen['cleanDoc']=pd.DataFrame(ls_sen)"
      ],
      "metadata": {
        "id": "9RkV6GqmjuwZ"
      },
      "execution_count": null,
      "outputs": []
    },
    {
      "cell_type": "code",
      "source": [
        "from string import digits \n",
        "  \n",
        "def remove(list): \n",
        "    remove_digits = str.maketrans('', '', digits) \n",
        "    list = [i.translate(remove_digits) for i in list] \n",
        "    return list"
      ],
      "metadata": {
        "id": "aQ3Aom4Ojuuv"
      },
      "execution_count": null,
      "outputs": []
    },
    {
      "cell_type": "code",
      "source": [
        "start = time.time()\n",
        "data =list(sen.cleanDoc)\n",
        "\n",
        "tagged_data = [TaggedDocument(words=word_tokenize(_d.lower()), tags=[str(i)]) for i, _d in enumerate(data)]\n",
        "\n",
        "end = time.time()\n",
        "print(end - start)"
      ],
      "metadata": {
        "id": "9iJQlyzLjusI"
      },
      "execution_count": null,
      "outputs": []
    },
    {
      "cell_type": "markdown",
      "source": [
        "In this section, model doc2vec is used to learn the representation of input information, for more information please refer to :\n",
        "https://www.tutorialspoint.com/gensim/gensim_doc2vec_model.htm"
      ],
      "metadata": {
        "id": "LX4tjM6Ik3Tj"
      }
    },
    {
      "cell_type": "code",
      "source": [
        "start = time.time()\n",
        "max_epochs = 10\n",
        "vector_size = 200\n",
        "alpha = 0.025\n",
        "\n",
        "model = Doc2Vec(vector_size=200,\n",
        "                alpha=alpha, \n",
        "                min_alpha=0.0001,\n",
        "                min_count=5,\n",
        "                dm =0, # This parameter controls the behavior of the algorithm.\n",
        "                negative = 5,\n",
        "                #hs=1,\n",
        "                workers=20,\n",
        "                dm_concat = 1,\n",
        "                sample =1e-5)\n",
        "  \n",
        "model.build_vocab(tagged_data)\n",
        "\n",
        "for epoch in range(max_epochs):\n",
        "    try:\n",
        "        print('iteration {0}'.format(epoch))\n",
        "        model.train(tagged_data,\n",
        "                    total_examples=model.corpus_count,\n",
        "                    epochs=model.iter)\n",
        "        # decrease the learning rate\n",
        "        model.alpha -= 0.0002\n",
        "        # fix the learning rate, no decay\n",
        "        model.min_alpha = model.alpha\n",
        "    except:\n",
        "        print('1')\n",
        "\n",
        "model.save(\"d2v.model\")\n",
        "end = time.time()\n",
        "print(\"Model Saved in \" + str(end - start))"
      ],
      "metadata": {
        "id": "7iE-sOpwjup9"
      },
      "execution_count": null,
      "outputs": []
    },
    {
      "cell_type": "markdown",
      "source": [
        "In this part, the output resulting from the implementation of running Doc2vec, which is a vector with 200 dimentions, is connected with the admission number (admission_Id) of the same patient"
      ],
      "metadata": {
        "id": "2GOvqx5GyU7Q"
      }
    },
    {
      "cell_type": "code",
      "source": [
        "list_Subject_id=sen.ID.unique().tolist()\n",
        "list_total=[]\n",
        "list_columns_name=[]\n",
        "for i in range(len(list_Subject_id)):\n",
        "    #list_vec.append([list_sen[i][0],list_sen[i][1],model.docvecs[i],'Malignant',1])\n",
        "    list_vec=[]\n",
        "    for j in range(vector_size):\n",
        "        list_vec.append(model.docvecs[i][j])   \n",
        "    list_total.append(list_vec)    \n",
        "\n",
        "\n",
        "for i in range(vector_size):\n",
        "    list_columns_name.append('f'+str(i))\n",
        "    \n",
        "    \n",
        "EmbeddedVecor=pd.DataFrame(list_total,columns=list_columns_name)\n",
        "EmbeddedVecor['admission_Id']=pd.DataFrame(list_Subject_id)"
      ],
      "metadata": {
        "id": "Z5k9AgnMjumX"
      },
      "execution_count": null,
      "outputs": []
    },
    {
      "cell_type": "code",
      "source": [
        ""
      ],
      "metadata": {
        "id": "O3MSx36Djujw"
      },
      "execution_count": null,
      "outputs": []
    },
    {
      "cell_type": "code",
      "source": [
        ""
      ],
      "metadata": {
        "id": "EiTRZU9ZjuhP"
      },
      "execution_count": null,
      "outputs": []
    }
  ]
}