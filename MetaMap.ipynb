{
  "nbformat": 4,
  "nbformat_minor": 0,
  "metadata": {
    "colab": {
      "name": "MetaMap.ipynb",
      "provenance": [],
      "authorship_tag": "ABX9TyPgUa0s+4xus9VtoRgXaLFO",
      "include_colab_link": true
    },
    "kernelspec": {
      "name": "python3",
      "display_name": "Python 3"
    },
    "language_info": {
      "name": "python"
    }
  },
  "cells": [
    {
      "cell_type": "markdown",
      "metadata": {
        "id": "view-in-github",
        "colab_type": "text"
      },
      "source": [
        "<a href=\"https://colab.research.google.com/github/HodaMemar/Patient-Similarity-through-Representation/blob/main/MetaMap.ipynb\" target=\"_parent\"><img src=\"https://colab.research.google.com/assets/colab-badge.svg\" alt=\"Open In Colab\"/></a>"
      ]
    },
    {
      "cell_type": "markdown",
      "source": [
        "If MetaMap is used for NER, the following method can be used to process the output files."
      ],
      "metadata": {
        "id": "WQ-K4ITDxgLt"
      }
    },
    {
      "cell_type": "markdown",
      "source": [
        "We enter the names of the files taken from Metamp in this section so that their information can be extracted"
      ],
      "metadata": {
        "id": "iG7P2wIkxuQR"
      }
    },
    {
      "cell_type": "code",
      "execution_count": null,
      "metadata": {
        "id": "EkzYuQ0dwwAw"
      },
      "outputs": [],
      "source": [
        "title='m'+'13' #File Name\n",
        "print(title)\n",
        "tree = ET.parse('...\\'+title+'.xml')\n",
        "root = tree.getroot()"
      ]
    },
    {
      "cell_type": "code",
      "source": [
        "ls_xml_content=[]\n",
        "for ph in root.findall(\"./MMO/Utterances/Utterance/Phrases/Phrase\"):\n",
        "    #/Mappings/Mapping/MappingCandidates/Candidate\n",
        "    phrase=ph.find('PhraseText').text\n",
        "    \n",
        "    for child in ph.findall(\"./Mappings/Mapping/MappingCandidates\"):\n",
        "        CandidateScore=child.find('Candidate/CandidateScore').text\n",
        "        CandidateCUI=child.find('Candidate/CandidateCUI').text\n",
        "        CandidateMatched=child.find('Candidate/CandidateMatched').text\n",
        "        CandidatePreferred=child.find('Candidate/CandidatePreferred').text \n",
        "        SemType=child.find('Candidate/SemTypes/SemType').text\n",
        "\n",
        "        ls_xml_content.append([phrase,CandidateScore,CandidateCUI,CandidateMatched,CandidatePreferred,SemType])\n",
        "        \n",
        "df_xml_content=pd.DataFrame(ls_xml_content,columns=['PhraseText','CandidateScore','CandidateCUI','CandidateMatched'\\\n",
        "                                                    ,'CandidatePreferred','SemType' ])\n",
        " \n",
        "df_xml_content"
      ],
      "metadata": {
        "id": "-C5Cr6QUx5mV"
      },
      "execution_count": null,
      "outputs": []
    },
    {
      "cell_type": "code",
      "source": [
        "df_xml_content = df_xml_content.sort_values([\"PhraseText\", \"CandidateScore\"], ascending = (True, False))\n",
        "df_xml_content"
      ],
      "metadata": {
        "id": "vg_SDdXlycHX"
      },
      "execution_count": null,
      "outputs": []
    },
    {
      "cell_type": "code",
      "source": [
        ""
      ],
      "metadata": {
        "id": "yt5k2-1OyeNg"
      },
      "execution_count": null,
      "outputs": []
    }
  ]
}