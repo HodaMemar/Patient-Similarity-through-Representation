{
  "nbformat": 4,
  "nbformat_minor": 0,
  "metadata": {
    "colab": {
      "name": "Create_Gold_Standard.ipynb",
      "provenance": [],
      "authorship_tag": "ABX9TyMGjh0m7EJ83iM9p7oSAlQx",
      "include_colab_link": true
    },
    "kernelspec": {
      "name": "python3",
      "display_name": "Python 3"
    },
    "language_info": {
      "name": "python"
    }
  },
  "cells": [
    {
      "cell_type": "markdown",
      "metadata": {
        "id": "view-in-github",
        "colab_type": "text"
      },
      "source": [
        "<a href=\"https://colab.research.google.com/github/HodaMemar/Patient-Similarity-through-Representation/blob/main/Create_Gold_Standard.ipynb\" target=\"_parent\"><img src=\"https://colab.research.google.com/assets/colab-badge.svg\" alt=\"Open In Colab\"/></a>"
      ]
    },
    {
      "cell_type": "markdown",
      "source": [
        "In this section, a golden standard is produced to evaluate the quality of embedding vectors. The source of this gold standard is the registered final diagnoses for patients. In the structure of this golden standard, the method presented in the article https://doi.org/10.1016/j.artmed.2020.101900  is used. In this method, the order of recorded final diagnoses is used for weighting."
      ],
      "metadata": {
        "id": "Vof_xoOccYjC"
      }
    },
    {
      "cell_type": "code",
      "execution_count": null,
      "metadata": {
        "id": "65rvyCE3zg7D"
      },
      "outputs": [],
      "source": [
        "import pandas as pd\n",
        "gold=pd.read_csv('...\\diagnoses.csv')\n",
        "gold"
      ]
    },
    {
      "cell_type": "code",
      "source": [
        "import numpy as np\n",
        "Weights = {}\n",
        "for i in range(1,50):\n",
        "    Weights[i] = 2 / (np.exp(i-1) + 1)\n",
        "\n",
        "ls_W=[]\n",
        "for i in range(len(gold)):\n",
        "    seq =gold.loc[i].SEQ_NUM\n",
        "    ls_W.append(Weights[seq])\n",
        "gold['Weight']=pd.DataFrame(ls_W)  "
      ],
      "metadata": {
        "id": "BbDUuO4NcE73"
      },
      "execution_count": null,
      "outputs": []
    },
    {
      "cell_type": "code",
      "source": [
        "def simIndex(a,b):\n",
        "    x={}\n",
        "    x=a\n",
        "    y={}\n",
        "    y=b\n",
        "    #print(x,y)\n",
        "    commonhadm = list(set(x.keys()).intersection(set(y.keys())))\n",
        "    \n",
        "    if (len(commonhadm) < 1):\n",
        "            return 0.0\n",
        "    aw,bw = 0.0,0.0\n",
        "    for i in x:\n",
        "        aw = aw +x[i] \n",
        "    for j in y:\n",
        "        bw = bw +y[j]\n",
        "    sum = 0\n",
        "    for c in commonhadm:\n",
        "            w1 = x[c]\n",
        "            \n",
        "            w2 = y[c]\n",
        "            #print(w1,w2)\n",
        "            sum = sum + min(w1, w2)\n",
        "    similarityIndex = sum / np.mean([aw, bw])\n",
        "    return round(similarityIndex, 4)\n"
      ],
      "metadata": {
        "id": "_wFQ9myOcE5C"
      },
      "execution_count": null,
      "outputs": []
    },
    {
      "cell_type": "code",
      "source": [
        "import time\n",
        "ls_residual=[]\n",
        " \n",
        "i=0\n",
        "for key_i in list_Subject_id :\n",
        "    df_a=gold[gold['HADM_ID']==key_i][['ICD9_CODE','Weight']]\n",
        "    a = dict(zip(df_a.ICD9_CODE, df_a.Weight))\n",
        "    start = time.time()  \n",
        "    \n",
        "    i=0\n",
        "    for key_j in list_Subject_id:\n",
        "            try:\n",
        "                df_b=gold[gold['HADM_ID']==key_j][['ICD9_CODE','Weight']]\n",
        "                b = dict(zip(df_b.ICD9_CODE, df_b.Weight))\n",
        "                \n",
        "                i=i+1\n",
        "                score1.append([key_i,key_j,simIndex(a,b)])\n",
        "                \n",
        "            except:\n",
        "                print(\"An exception occurred\")\n",
        "           \n",
        "             \n",
        "    stop = time.time()\n",
        "    duration = stop-start\n",
        "    print(key_i,i,duration,'----------')  "
      ],
      "metadata": {
        "id": "A6CEFRZ1cSCo"
      },
      "execution_count": null,
      "outputs": []
    },
    {
      "cell_type": "code",
      "source": [
        "gold_df=pd.DataFrame(score1,columns=['p1','p2','SimIndex'])\n",
        "gold_df.to_csv('...\\gold_standard.csv', index = False)"
      ],
      "metadata": {
        "id": "olO1-yIicE2l"
      },
      "execution_count": null,
      "outputs": []
    },
    {
      "cell_type": "code",
      "source": [
        ""
      ],
      "metadata": {
        "id": "sQEtsRGqcE0I"
      },
      "execution_count": null,
      "outputs": []
    },
    {
      "cell_type": "code",
      "source": [
        ""
      ],
      "metadata": {
        "id": "aYFv5GUYcExY"
      },
      "execution_count": null,
      "outputs": []
    },
    {
      "cell_type": "code",
      "source": [
        ""
      ],
      "metadata": {
        "id": "h2bceJY-cEti"
      },
      "execution_count": null,
      "outputs": []
    },
    {
      "cell_type": "code",
      "source": [
        ""
      ],
      "metadata": {
        "id": "n8SGOKDPcEpo"
      },
      "execution_count": null,
      "outputs": []
    },
    {
      "cell_type": "code",
      "source": [
        ""
      ],
      "metadata": {
        "id": "0WZhnSr6cElZ"
      },
      "execution_count": null,
      "outputs": []
    }
  ]
}