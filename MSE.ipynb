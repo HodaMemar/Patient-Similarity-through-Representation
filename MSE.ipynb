{
  "nbformat": 4,
  "nbformat_minor": 0,
  "metadata": {
    "colab": {
      "name": "MSE.ipynb",
      "provenance": [],
      "authorship_tag": "ABX9TyNc0pAHe1hQkjEyf5ia7dlT",
      "include_colab_link": true
    },
    "kernelspec": {
      "name": "python3",
      "display_name": "Python 3"
    },
    "language_info": {
      "name": "python"
    }
  },
  "cells": [
    {
      "cell_type": "markdown",
      "metadata": {
        "id": "view-in-github",
        "colab_type": "text"
      },
      "source": [
        "<a href=\"https://colab.research.google.com/github/HodaMemar/Patient-Similarity-through-Representation/blob/main/MSE.ipynb\" target=\"_parent\"><img src=\"https://colab.research.google.com/assets/colab-badge.svg\" alt=\"Open In Colab\"/></a>"
      ]
    },
    {
      "cell_type": "code",
      "execution_count": null,
      "metadata": {
        "id": "wTjPQddUp_Vw"
      },
      "outputs": [],
      "source": [
        "import numpy as np\n",
        "import pandas as pd"
      ]
    },
    {
      "cell_type": "code",
      "source": [
        "\n",
        "df_dis=pd.read_csv('...\\\\dis_Emb_Stage_S_TT.csv')\n",
        "df_dis\n",
        "\n",
        "df_dis=df_dis.set_index('ID')\n",
        "Dataset_ID=df_dis.index.tolist()"
      ],
      "metadata": {
        "id": "aG_JgsKsqEC7"
      },
      "execution_count": null,
      "outputs": []
    },
    {
      "cell_type": "code",
      "source": [
        "gold_dff=pd.read_csv('...\\\\gold_standard.csv')\n",
        "gold_dff.head()"
      ],
      "metadata": {
        "id": "6v7M_A60qL10"
      },
      "execution_count": null,
      "outputs": []
    },
    {
      "cell_type": "code",
      "source": [
        "gold_dff=gold_dff[(gold_dff['p1'].isin(Dataset_ID)) & (gold_dff['p2'].isin(Dataset_ID))]\n",
        "gold_dff"
      ],
      "metadata": {
        "id": "1t41litCqLzb"
      },
      "execution_count": null,
      "outputs": []
    },
    {
      "cell_type": "code",
      "source": [
        "from sklearn.metrics import mean_squared_error \n",
        "list_patient=df_dis.index.tolist()\n",
        "Total_MSE=0\n",
        "Avg=0\n",
        "w=0\n",
        "ls_Result=[]\n",
        "ls_K=[2]\n",
        "for k in ls_K:\n",
        "    Total_MSE=0\n",
        "    count=127\n",
        "    w=0\n",
        "    for i in list_patient:\n",
        "        w=w+1\n",
        "\n",
        "        df_tmp=df_dis[[str(i)]]\n",
        "        df_tmp=df_tmp.sort_values(str(i), axis=0, ascending=False, inplace=False, kind='quicksort', na_position='last')\n",
        "        #print(df_tmp)\n",
        "        top_retrived=df_tmp[1:k].index.tolist()\n",
        "        MAX=0\n",
        "        for j in top_retrived:\n",
        "            \n",
        "            max_tmp=gold_dff.loc[(gold_dff['p1']==i) & (gold_dff['p2']==j)].SimIndex.tolist()[0]\n",
        "\n",
        "            \n",
        "            if max_tmp> MAX:\n",
        "                MAX=max_tmp\n",
        "        Y_Estimated=MAX\n",
        "\n",
        "\n",
        "        gold_Y_i=gold_dff[gold_dff['p1']==i].sort_values('SimIndex',ascending=False)\n",
        "        gold_Y_i.reset_index()\n",
        "        Y_ideal=gold_Y_i.iloc[1].SimIndex\n",
        "        \n",
        "\n",
        "        \n",
        "        MSE=mean_squared_error([Y_ideal],[Y_Estimated])  \n",
        "        \n",
        "        print(k,w)\n",
        "        #MSE = np.square(sub)\n",
        "        #print(np.subtract(Y_ideal,Y_Estimated))\n",
        "        ls_Result.append([title,i,k,MSE])"
      ],
      "metadata": {
        "id": "lXQK4GOsqLxR"
      },
      "execution_count": null,
      "outputs": []
    },
    {
      "cell_type": "code",
      "source": [
        "mse=pd.DataFrame(ls_Result,columns=['title','i','k','MSE'])"
      ],
      "metadata": {
        "id": "NQ0UjlnbqLu8"
      },
      "execution_count": null,
      "outputs": []
    },
    {
      "cell_type": "code",
      "source": [
        ""
      ],
      "metadata": {
        "id": "njOUBSriqLsp"
      },
      "execution_count": null,
      "outputs": []
    },
    {
      "cell_type": "code",
      "source": [
        ""
      ],
      "metadata": {
        "id": "WDe56LxXqLqZ"
      },
      "execution_count": null,
      "outputs": []
    },
    {
      "cell_type": "code",
      "source": [
        ""
      ],
      "metadata": {
        "id": "R09favRHqLm5"
      },
      "execution_count": null,
      "outputs": []
    }
  ]
}