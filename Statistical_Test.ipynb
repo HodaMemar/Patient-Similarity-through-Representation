{
  "nbformat": 4,
  "nbformat_minor": 0,
  "metadata": {
    "colab": {
      "name": "Statistical_Test.ipynb",
      "provenance": [],
      "authorship_tag": "ABX9TyMa8OsETDMIuudJOQa4SuBO",
      "include_colab_link": true
    },
    "kernelspec": {
      "name": "python3",
      "display_name": "Python 3"
    },
    "language_info": {
      "name": "python"
    }
  },
  "cells": [
    {
      "cell_type": "markdown",
      "metadata": {
        "id": "view-in-github",
        "colab_type": "text"
      },
      "source": [
        "<a href=\"https://colab.research.google.com/github/HodaMemar/Patient-Similarity-through-Representation/blob/main/Statistical_Test.ipynb\" target=\"_parent\"><img src=\"https://colab.research.google.com/assets/colab-badge.svg\" alt=\"Open In Colab\"/></a>"
      ]
    },
    {
      "cell_type": "markdown",
      "source": [
        "for more information please refer to:\n",
        "https://docs.scipy.org/doc/scipy/reference/generated/scipy.stats.wilcoxon.html\n"
      ],
      "metadata": {
        "id": "uQ-8sAkV0L7m"
      }
    },
    {
      "cell_type": "markdown",
      "source": [
        "Wilcoxon statistical test was used for the reliability of the obtained results. This test corresponds to the dependent two-sample t-test and can be used as a substitute if the conditions of the t-test, which is the normality of the results, do not exist. In the implementation of this test, two null hypotheses and the opposite hypothesis are defined as follows:\n",
        "\n",
        "---\n",
        "\n",
        "H0: The difference between two values is symmetrically distributed around the zero point.\n",
        "\n",
        "---\n",
        "\n",
        "\n",
        "HA: The difference between two values is not symmetrical about the zero point.\n",
        "\n",
        "\n",
        "---\n",
        "\n",
        "In this research, we used the statistical method. The spicy.stats library is used for calculation. First, the spicy.stats.shapiro function is run on each set of input data. The second part of the output of the function refers to the value of p_value. If the p_value for each pair of sets of input data is less than 0.05, the assumption of normal distribution of the input data is rejected, and in such a situation, the Wilcoxon test can be used.\n",
        "\n",
        " The spicy.stats.wilcoxon function returns the final p_value after receiving two input sets.\n",
        "\n",
        " \n",
        "To run the Wilcoxon test for each file number, the error value obtained in each of the proposed methods and the base methods were considered as independent data sets. Then p_value was calculated for both input sets using spicy.stats.wilcoxon function.\n"
      ],
      "metadata": {
        "id": "CTH19XRv1V6p"
      }
    },
    {
      "cell_type": "markdown",
      "source": [
        ""
      ],
      "metadata": {
        "id": "McfxBZfh1V4F"
      }
    },
    {
      "cell_type": "markdown",
      "source": [
        ""
      ],
      "metadata": {
        "id": "h5uicmm01V1t"
      }
    },
    {
      "cell_type": "code",
      "execution_count": null,
      "metadata": {
        "id": "8rWvdlKPzNBJ"
      },
      "outputs": [],
      "source": [
        "from scipy import stats\n",
        "import matplotlib.pyplot as plt\n",
        "import pandas as pd"
      ]
    },
    {
      "cell_type": "markdown",
      "source": [
        "The results obtained from evaluation nDCG for different patients are mentioned as examples"
      ],
      "metadata": {
        "id": "0IhGWIty17Vy"
      }
    },
    {
      "cell_type": "code",
      "source": [
        "df=pd.read_csv('...\\DCG_Pivot.csv')"
      ],
      "metadata": {
        "id": "XlD3jCOrz2hk"
      },
      "execution_count": null,
      "outputs": []
    },
    {
      "cell_type": "code",
      "source": [
        "df.Method.unique().tolist()"
      ],
      "metadata": {
        "id": "JrBDw-HWz86r"
      },
      "execution_count": null,
      "outputs": []
    },
    {
      "cell_type": "code",
      "source": [
        "df = pd.DataFrame(list(zip(a, d)), \n",
        "               columns =['a', 'b']) \n",
        "stats.wilcoxon(df['a'], df['b'])"
      ],
      "metadata": {
        "id": "vgA20UNp0AXs"
      },
      "execution_count": null,
      "outputs": []
    }
  ]
}